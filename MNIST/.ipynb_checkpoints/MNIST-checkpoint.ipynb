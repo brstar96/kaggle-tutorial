{
 "cells": [
  {
   "cell_type": "markdown",
   "metadata": {
    "_uuid": "67f55fea7bc53b9d161d5295ad8ee228f8e9fc91"
   },
   "source": [
    "# [수비니움의 캐글 따라하기] MNIST\n",
    "\n",
    "본 커널은 다음 참고자료를 통해 재구성한 자료입니다.\n",
    "\n",
    "- [케라스 창시자에게 배우는 딥러닝](https://tensorflow.blog/%EC%BC%80%EB%9D%BC%EC%8A%A4-%EC%B0%BD%EC%8B%9C%EC%9E%90%EC%97%90%EA%B2%8C-%EB%B0%B0%EC%9A%B0%EB%8A%94-%EB%94%A5%EB%9F%AC%EB%8B%9D/)\n",
    "- [Simple deep MLP with Keras](https://www.kaggle.com/fchollet/simple-deep-mlp-with-keras/code)\n",
    "\n",
    "저는 캐글을 시작하는 초보자이며, 초보자에게 더 적합하게 쉬운 튜토리얼을 제작하는 것을 목표로 하고 있습니다.더 자세한 사항은 다음 링크를 참고해주세요.\n",
    "\n",
    "- **블로그** : [안수빈의 블로그](https://subinium.github.io)\n",
    "- **페이스북** : [어썸너드 수비니움](https://www.facebook.com/ANsubinium)\n",
    "- **유튜브** : [수비니움의 코딩일지](https://www.youtube.com/channel/UC8cvg1_oB-IDtWT2bfBC2OQ)"
   ]
  },
  {
   "cell_type": "markdown",
   "metadata": {
    "_uuid": "6cf63e8ea555e9112046341fd362b96777b93d78"
   },
   "source": [
    "## 1. 기본 라이브러리 호출\n",
    "\n",
    "우선 필요한 라이브러리를 호출합니다. 각 라이브러리는 다음과 같습니다."
   ]
  },
  {
   "cell_type": "code",
   "execution_count": 1,
   "metadata": {
    "_cell_guid": "b1076dfc-b9ad-4769-8c92-a6c4dae69d19",
    "_uuid": "8f2839f25d086af736a60e9eeb907d3b93b6e0e5"
   },
   "outputs": [
    {
     "name": "stderr",
     "output_type": "stream",
     "text": [
      "Using TensorFlow backend.\n"
     ]
    }
   ],
   "source": [
    "# 케라스 모델 형성\n",
    "from keras.models import Sequential\n",
    "from keras.utils import np_utils \n",
    "from keras.layers.core import Dense, Activation, Dropout\n",
    "from keras.layers import Conv2D, MaxPooling2D, Flatten\n",
    "\n",
    "# 훈련 데이터셋에서 검증 데이터셋\n",
    "from sklearn.model_selection import train_test_split\n",
    "\n",
    "# 데이터 분석\n",
    "import pandas as pd\n",
    "import numpy as np"
   ]
  },
  {
   "cell_type": "markdown",
   "metadata": {
    "_uuid": "a4fce4cfa8bf38e03f66219123ed35e819e38cfa"
   },
   "source": [
    "## 2. 데이터 받기\n",
    "\n",
    "read_csv를 이용하여 입력받습니다. "
   ]
  },
  {
   "cell_type": "code",
   "execution_count": 2,
   "metadata": {
    "_cell_guid": "79c7e3d0-c299-4dcb-8224-4455121ee9b0",
    "_uuid": "d629ff2d2480ee46fbb7e2d37f6b5fab8052498a"
   },
   "outputs": [],
   "source": [
    "train = pd.read_csv('../input/train.csv')\n",
    "labels = train.iloc[:,0].values.astype('int32')\n",
    "\n",
    "X_train = (train.iloc[:,1:].values).astype('float32')\n",
    "X_test = (pd.read_csv('../input/test.csv').values).astype('float32')"
   ]
  },
  {
   "cell_type": "markdown",
   "metadata": {
    "_uuid": "10eeb4a1820625aa281ec77627f49d5ad0019637"
   },
   "source": [
    "각 값의 레이블은 to_categocial을 활용하여 범주화 시킵니다."
   ]
  },
  {
   "cell_type": "code",
   "execution_count": 3,
   "metadata": {
    "_uuid": "29d6fa60771b47e4883458572d3d3a60edd8354f"
   },
   "outputs": [],
   "source": [
    "y_train = np_utils.to_categorical(labels)"
   ]
  },
  {
   "cell_type": "markdown",
   "metadata": {
    "_uuid": "c4a65c3c0db6b31fd2f3976926b3dfbbb79c48a3"
   },
   "source": [
    "이미지는 28 by 28 pixel이고 흑백 채널 1개이므로 다음과 같이 reshape 해줍니다."
   ]
  },
  {
   "cell_type": "code",
   "execution_count": 4,
   "metadata": {
    "_uuid": "8ebb52ec0fbe1124d4cc7f12b3093cd3c141d2cd"
   },
   "outputs": [],
   "source": [
    "X_train = X_train.reshape((-1,28,28,1))\n",
    "X_test = X_test.reshape((-1,28,28,1))"
   ]
  },
  {
   "cell_type": "markdown",
   "metadata": {
    "_uuid": "aa1b76d0795118dca89f5443f29ab0c2b66c9a1f"
   },
   "source": [
    "이제 훈련 데이터를 이용해 검증 데이터셋을 만들어보겠습니다."
   ]
  },
  {
   "cell_type": "code",
   "execution_count": 5,
   "metadata": {
    "_uuid": "bd3d87925469d5f6a98457c2587bb6fa3b2dfad3"
   },
   "outputs": [],
   "source": [
    "X_train, X_val, y_train, y_val = train_test_split(X_train, y_train, test_size = 0.1)"
   ]
  },
  {
   "cell_type": "markdown",
   "metadata": {
    "_uuid": "12817bb33e059f73dfdced933f912094f23a77f3"
   },
   "source": [
    "## 3. 데이터 전처리\n",
    "\n",
    "데이터의 스케일을 조정합니다. np.max 대신 255를 사용해도 됩니다."
   ]
  },
  {
   "cell_type": "code",
   "execution_count": 6,
   "metadata": {
    "_uuid": "6f7684d43723e954df58c2dc0d823f2c92d9a9b8"
   },
   "outputs": [],
   "source": [
    "scale = np.max(X_train)\n",
    "X_train /= scale\n",
    "X_test /= scale\n",
    "\n",
    "mean = np.std(X_train)\n",
    "X_train -= mean\n",
    "X_test -= mean"
   ]
  },
  {
   "cell_type": "markdown",
   "metadata": {
    "_uuid": "d4fb2b3e65c9094509d388fe35add064ee479fc6"
   },
   "source": [
    "## 4. 모델 구성\n",
    "\n",
    "모델을 쌓아줍니다. layer를 계속 쌓아서 만들 수 있습니다.\n",
    "\n",
    "모델에서 사용하는 layer의 종류는 총 5개입니다.\n",
    "\n",
    "- Conv2D : Convolution Layer입니다. 이미지 처리에서 자주 사용하는 층입니다. 지역 패턴을 학습합니다.\n",
    "- MaxPooling2D : MaxPooling Layer입니다. 다운 샘플링합니다. 가중치 개수를 줄이고, 공간 특성 학습에 유용합니다.\n",
    "- Dropout : 무작위로 네트워크를 생략합니다. 이를 통해 과적합을 예방할 수 있습니다.\n",
    "- Flatten : 지금까지 텐서를 하나로 펴는 과정입니다.\n",
    "- Dense : 완전 연결 층입니다. 전역 패턴을 학습합니다.\n",
    "\n",
    "활성화 함수는 2 종류로 사용합니다.\n",
    "\n",
    "- relu : 주로 은닉층에 사용됩니다.\n",
    "- softmax : 다중 클래스 분류 출력층에서 사용됩니다."
   ]
  },
  {
   "cell_type": "code",
   "execution_count": 7,
   "metadata": {
    "_uuid": "c8434d0e29e723a6840ad3fd09e5b5cdad243a0c"
   },
   "outputs": [
    {
     "name": "stdout",
     "output_type": "stream",
     "text": [
      "WARNING:tensorflow:From /opt/conda/lib/python3.6/site-packages/tensorflow/python/framework/op_def_library.py:263: colocate_with (from tensorflow.python.framework.ops) is deprecated and will be removed in a future version.\n",
      "Instructions for updating:\n",
      "Colocations handled automatically by placer.\n",
      "WARNING:tensorflow:From /opt/conda/lib/python3.6/site-packages/keras/backend/tensorflow_backend.py:3445: calling dropout (from tensorflow.python.ops.nn_ops) with keep_prob is deprecated and will be removed in a future version.\n",
      "Instructions for updating:\n",
      "Please use `rate` instead of `keep_prob`. Rate should be set to `rate = 1 - keep_prob`.\n"
     ]
    }
   ],
   "source": [
    "\n",
    "model = Sequential()\n",
    "model.add(Conv2D(32,(3,3), activation='relu', input_shape=(28,28,1)))\n",
    "model.add(Conv2D(32,(3,3), activation='relu', input_shape=(28,28,1)))\n",
    "model.add(MaxPooling2D((2,2)))\n",
    "model.add(Dropout(0.25))\n",
    "\n",
    "model.add(Conv2D(64,(3,3), activation='relu'))\n",
    "model.add(Conv2D(64,(3,3), activation='relu'))\n",
    "model.add(MaxPooling2D((2,2)))\n",
    "model.add(Dropout(0.25))\n",
    "\n",
    "model.add(Flatten())\n",
    "model.add(Dense(256, activation='relu'))\n",
    "model.add(Dense(10, activation='softmax'))"
   ]
  },
  {
   "cell_type": "markdown",
   "metadata": {
    "_uuid": "7058eb052383d474b7388b4b650c7d35096417a4"
   },
   "source": [
    "## 5. 모델 컴파일 및 훈련\n",
    "\n",
    "### 5.1 컴파일\n",
    "\n",
    "컴파일에서는 총 3가지를 지정합니다.\n",
    "\n",
    "1. 옵티마이저는 RMSprop 옵티마이저를 사용합니다. 경사하강법보다 빠른 방법입니다.\n",
    "\n",
    "2. 손실함수는 categorical_crossentropy를 사용합니다. 두 확률 분포 사이의 거리를 측정하고 확률 분포 사이의 거리르 최소화하고 최적화합니다.\n",
    "\n",
    "3. 측정지표는 accuracy, 즉 정확도로 지정합니다.\n",
    "\n",
    "### 5.2 훈련\n",
    "\n",
    "검증 셋을 만드는 방법은 다양합니다. train_test_split을 사용할 수 있습니다.\n"
   ]
  },
  {
   "cell_type": "code",
   "execution_count": 8,
   "metadata": {
    "_uuid": "2a68c52871ed9fdbd3f74035cb8a619bfe9bb9a7"
   },
   "outputs": [
    {
     "name": "stdout",
     "output_type": "stream",
     "text": [
      "WARNING:tensorflow:From /opt/conda/lib/python3.6/site-packages/tensorflow/python/ops/math_ops.py:3066: to_int32 (from tensorflow.python.ops.math_ops) is deprecated and will be removed in a future version.\n",
      "Instructions for updating:\n",
      "Use tf.cast instead.\n",
      "Train on 37800 samples, validate on 4200 samples\n",
      "Epoch 1/20\n",
      "37800/37800 [==============================] - 5s 138us/step - loss: 0.1875 - acc: 0.9415 - val_loss: 0.4303 - val_acc: 0.9731\n",
      "Epoch 2/20\n",
      "37800/37800 [==============================] - 3s 80us/step - loss: 0.0588 - acc: 0.9814 - val_loss: 0.1957 - val_acc: 0.9879\n",
      "Epoch 3/20\n",
      "37800/37800 [==============================] - 3s 81us/step - loss: 0.0422 - acc: 0.9866 - val_loss: 0.2300 - val_acc: 0.9850\n",
      "Epoch 4/20\n",
      "37800/37800 [==============================] - 3s 75us/step - loss: 0.0349 - acc: 0.9894 - val_loss: 0.2859 - val_acc: 0.9821\n",
      "Epoch 5/20\n",
      "37800/37800 [==============================] - 3s 74us/step - loss: 0.0302 - acc: 0.9901 - val_loss: 0.3112 - val_acc: 0.9805\n",
      "Epoch 6/20\n",
      "37800/37800 [==============================] - 3s 75us/step - loss: 0.0268 - acc: 0.9917 - val_loss: 0.2147 - val_acc: 0.9867\n",
      "Epoch 7/20\n",
      "37800/37800 [==============================] - 3s 75us/step - loss: 0.0244 - acc: 0.9924 - val_loss: 0.1748 - val_acc: 0.9890\n",
      "Epoch 8/20\n",
      "37800/37800 [==============================] - 3s 83us/step - loss: 0.0227 - acc: 0.9929 - val_loss: 0.2626 - val_acc: 0.9833\n",
      "Epoch 9/20\n",
      "37800/37800 [==============================] - 3s 84us/step - loss: 0.0208 - acc: 0.9936 - val_loss: 0.1935 - val_acc: 0.9879\n",
      "Epoch 10/20\n",
      "37800/37800 [==============================] - 3s 84us/step - loss: 0.0181 - acc: 0.9947 - val_loss: 0.2167 - val_acc: 0.9862\n",
      "Epoch 11/20\n",
      "37800/37800 [==============================] - 3s 76us/step - loss: 0.0174 - acc: 0.9948 - val_loss: 0.3185 - val_acc: 0.9802\n",
      "Epoch 12/20\n",
      "37800/37800 [==============================] - 3s 75us/step - loss: 0.0171 - acc: 0.9951 - val_loss: 0.6266 - val_acc: 0.9610\n",
      "Epoch 13/20\n",
      "37800/37800 [==============================] - 3s 75us/step - loss: 0.0167 - acc: 0.9949 - val_loss: 0.9953 - val_acc: 0.9381\n",
      "Epoch 14/20\n",
      "37800/37800 [==============================] - 3s 75us/step - loss: 0.0157 - acc: 0.9957 - val_loss: 0.5718 - val_acc: 0.9645\n",
      "Epoch 15/20\n",
      "37800/37800 [==============================] - 3s 75us/step - loss: 0.0147 - acc: 0.9958 - val_loss: 0.3147 - val_acc: 0.9805\n",
      "Epoch 16/20\n",
      "37800/37800 [==============================] - 3s 75us/step - loss: 0.0140 - acc: 0.9958 - val_loss: 0.2955 - val_acc: 0.9817\n",
      "Epoch 17/20\n",
      "37800/37800 [==============================] - 3s 75us/step - loss: 0.0141 - acc: 0.9965 - val_loss: 0.3046 - val_acc: 0.9807\n",
      "Epoch 18/20\n",
      "37800/37800 [==============================] - 3s 75us/step - loss: 0.0128 - acc: 0.9965 - val_loss: 0.5262 - val_acc: 0.9671\n",
      "Epoch 19/20\n",
      "37800/37800 [==============================] - 3s 75us/step - loss: 0.0126 - acc: 0.9965 - val_loss: 0.9796 - val_acc: 0.9390\n",
      "Epoch 20/20\n",
      "37800/37800 [==============================] - 3s 75us/step - loss: 0.0126 - acc: 0.9967 - val_loss: 1.7778 - val_acc: 0.8895\n",
      "37800/37800 [==============================] - 2s 44us/step\n",
      "훈련데이터 점수 :  [0.004546692839156409, 0.9988624338624339]\n",
      "4200/4200 [==============================] - 0s 44us/step\n",
      "검증데이터 점수 :  [1.7777700751168393, 0.8895238095238095]\n"
     ]
    }
   ],
   "source": [
    "model.compile(optimizer='rmsprop',\n",
    "              loss='categorical_crossentropy',\n",
    "              metrics=['accuracy'])\n",
    "history = model.fit(X_train, y_train, epochs=20, batch_size=64, validation_data=(X_val, y_val))\n",
    "\n",
    "print(\"훈련데이터 점수 : \", model.evaluate(X_train, y_train))\n",
    "print(\"검증데이터 점수 : \", model.evaluate(X_val, y_val))"
   ]
  },
  {
   "cell_type": "markdown",
   "metadata": {
    "_uuid": "7148fd2b5d2c86e21013178b82cf78181b159aac"
   },
   "source": [
    "## 6. 훈련 결과 시각화\n",
    "\n",
    "fit 함수의 리턴 값은 속성 4가지입니다.\n",
    "\n",
    "- acc : 훈련 정확도\n",
    "- loss : 훈련 손실값\n",
    "- val_acc : 검증 손실값\n",
    "- val_loss : 검증 정확도\n",
    "\n",
    "matplotlib을 활용하여 그래프를 그립니다.\n",
    "\n",
    "각각은 loss와 accuracy에 관한 그래프입니다."
   ]
  },
  {
   "cell_type": "code",
   "execution_count": 9,
   "metadata": {
    "_uuid": "585f56367c18b1fd71d987973724e62b092f977a"
   },
   "outputs": [
    {
     "data": {
      "image/png": "[encoded data removed]",
      "text/plain": [
       "<Figure size 432x288 with 1 Axes>"
      ]
     },
     "metadata": {},
     "output_type": "display_data"
    }
   ],
   "source": [
    "import matplotlib.pyplot as plt\n",
    "\n",
    "acc = history.history['acc']\n",
    "val_acc = history.history['val_acc']\n",
    "loss = history.history['loss']\n",
    "val_loss = history.history['val_loss']\n",
    "\n",
    "epochs = range(1, len(acc) + 1)\n",
    "\n",
    "plt.plot(epochs, loss, 'bo', label='Training loss')\n",
    "\n",
    "plt.plot(epochs, val_loss, 'b', label='Validation loss')\n",
    "plt.title('Training and validation loss')\n",
    "plt.xlabel('Epochs')\n",
    "plt.ylabel('Loss')\n",
    "plt.legend()\n",
    "\n",
    "plt.show()"
   ]
  },
  {
   "cell_type": "code",
   "execution_count": 10,
   "metadata": {
    "_uuid": "15b686f8f7a31bb51ac15846c08fa80f18fea2f5"
   },
   "outputs": [
    {
     "data": {
      "image/png": "[encoded data removed]",
      "text/plain": [
       "<Figure size 432x288 with 1 Axes>"
      ]
     },
     "metadata": {},
     "output_type": "display_data"
    }
   ],
   "source": [
    "plt.plot(epochs, acc, 'bo', label='Training acc')\n",
    "plt.plot(epochs, val_acc, 'b', label='Validation acc')\n",
    "plt.title('Training and validation accuracy')\n",
    "plt.xlabel('Epochs')\n",
    "plt.ylabel('Accuracy')\n",
    "plt.legend()\n",
    "plt.show()"
   ]
  },
  {
   "cell_type": "markdown",
   "metadata": {
    "_uuid": "71eaeaaf51e3dd4c7d07aa2dc622ada9127df2bc"
   },
   "source": [
    "검증 데이터셋이 작아서 그런지, 아니면 층이 복잡해서 과적합이 비교적 빨리 일어나는 것 같습니다.\n",
    "무시하고 제출해보겠습니다."
   ]
  },
  {
   "cell_type": "markdown",
   "metadata": {
    "_uuid": "7da4209be8ce3e053ab04698e4d1ac196f965a88"
   },
   "source": [
    "## 7. 예측 및 제출\n",
    "\n",
    "마지막 제출용 csv파일을 만드는 방법은 사람마다 다른 것 같습니다. \n",
    "프랑소와 숄레님은 함수로 만들어서 다음과 같이 마지막 제출 파일을 만들어서 가져와봤습니다."
   ]
  },
  {
   "cell_type": "code",
   "execution_count": 11,
   "metadata": {
    "_uuid": "3b9abac23830af4c2ce2c5fde602764167adb5e8"
   },
   "outputs": [],
   "source": [
    "preds = model.predict_classes(X_test, verbose=0)\n",
    "\n",
    "def write_preds(preds, fname):\n",
    "    pd.DataFrame({\"ImageId\": list(range(1,len(preds)+1)), \"Label\": preds}).to_csv(fname, index=False, header=True)\n",
    "\n",
    "write_preds(preds, \"keras-mnist.csv\")"
   ]
  },
  {
   "cell_type": "code",
   "execution_count": 12,
   "metadata": {
    "_uuid": "3c956d339c1286fcedcb3eacc514f3427f493b31"
   },
   "outputs": [],
   "source": []
  }
 ],
 "metadata": {
  "kernelspec": {
   "display_name": "Python 3",
   "language": "python",
   "name": "python3"
  },
  "language_info": {
   "codemirror_mode": {
    "name": "ipython",
    "version": 3
   },
   "file_extension": ".py",
   "mimetype": "text/x-python",
   "name": "python",
   "nbconvert_exporter": "python",
   "pygments_lexer": "ipython3",
   "version": "3.6.8"
  }
 },
 "nbformat": 4,
 "nbformat_minor": 1
}
